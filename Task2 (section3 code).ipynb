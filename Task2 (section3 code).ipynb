{
 "cells": [
  {
   "cell_type": "code",
   "execution_count": 22,
   "id": "286485d9",
   "metadata": {},
   "outputs": [],
   "source": [
    "##  Amino Acid Sequences ##\n",
    "## The AASequence class handles amino acid sequences in OpenMS ##\n",
    "\n",
    "from pyopenms import AASequence\n",
    "from pyopenms import ResidueDB"
   ]
  },
  {
   "cell_type": "code",
   "execution_count": 23,
   "id": "755dde68",
   "metadata": {},
   "outputs": [
    {
     "name": "stdout",
     "output_type": "stream",
     "text": [
      "Sequence:     EFDIANGAP\n",
      "Prefix:       EFD\n",
      "Suffix:       NGAP\n",
      "Concatenated: EFDIANGAPEFDIANGAP\n",
      "===============================================\n",
      "Monoisotopic mass of peptide [M] is 932.4239669140001\n",
      "Monoisotopic mass of peptide precursor [M+2H]2+ is 934.438519847542\n",
      "Monoisotopic m/z of [M+2H]2+ is 467.219259923771\n"
     ]
    }
   ],
   "source": [
    "from pyopenms import *\n",
    "seq = AASequence.fromString(\"EFDIANGAP\")     \n",
    "prefix = seq.getPrefix(3)                  \n",
    "suffix = seq.getSuffix(4)               \n",
    "con = seq + seq                          \n",
    "\n",
    "print(\"Sequence:    \", seq)\n",
    "print(\"Prefix:      \", prefix)\n",
    "print(\"Suffix:      \", suffix)\n",
    "print(\"Concatenated:\", con)\n",
    "\n",
    "full = seq.getMonoWeight()\n",
    "precursor = seq.getMonoWeight(Residue.ResidueType.Full, 2) \n",
    "\n",
    "mz = seq.getMonoWeight(Residue.ResidueType.Full, 2) / 2.0 \n",
    "mz = seq.getMZ(2)\n",
    "\n",
    "print('===============================================')\n",
    "print(\"Monoisotopic mass of peptide [M] is\", full)\n",
    "print(\"Monoisotopic mass of peptide precursor [M+2H]2+ is\", precursor)\n",
    "print(\"Monoisotopic m/z of [M+2H]2+ is\", mz)"
   ]
  },
  {
   "cell_type": "code",
   "execution_count": 16,
   "id": "a0ab4653",
   "metadata": {},
   "outputs": [
    {
     "name": "stdout",
     "output_type": "stream",
     "text": [
      "The peptide EFDIANGAP consists of the following amino acids:\n",
      "Glutamate : 147.0531592871\n",
      "Phenylalanine : 165.07897935090003\n",
      "Aspartate : 133.0375092233\n",
      "Isoleucine : 131.0946294147\n",
      "Alanine : 89.0476792233\n",
      "Asparagine : 132.0534932552\n",
      "Glycine : 75.0320291595\n",
      "Alanine : 89.0476792233\n",
      "Proline : 115.06332928709999\n"
     ]
    }
   ],
   "source": [
    "seq = AASequence.fromString(\"EFDIANGAP\")\n",
    "\n",
    "print(\"The peptide\", str(seq), \"consists of the following amino acids:\")\n",
    "for aa in seq:\n",
    "    print(aa.getName(), \":\", aa.getMonoWeight())"
   ]
  },
  {
   "cell_type": "code",
   "execution_count": 24,
   "id": "9fa0cc4e",
   "metadata": {},
   "outputs": [
    {
     "name": "stdout",
     "output_type": "stream",
     "text": [
      "Peptide EFDIANGAP has molecular formula C41H60N10O15\n"
     ]
    }
   ],
   "source": [
    "## Molecular Formula ##\n",
    "\n",
    "seq = AASequence.fromString(\"EFDIANGAP\")\n",
    "seq_formula = seq.getFormula()\n",
    "print(\"Peptide\", seq, \"has molecular formula\", seq_formula)"
   ]
  },
  {
   "cell_type": "code",
   "execution_count": 25,
   "id": "8ea7cd16",
   "metadata": {},
   "outputs": [
    {
     "name": "stdout",
     "output_type": "stream",
     "text": [
      "y4 ion sequence: NGAP\n",
      "y4 mz: 179.589694333621\n",
      "y4 molecular formula: C14H23N5O6\n"
     ]
    }
   ],
   "source": [
    "##   Fragment Ions ##\n",
    "\n",
    "suffix = seq.getSuffix(4)                # y4 ion \"EFDI\"                         \n",
    "print(\"y4 ion sequence:\", suffix)\n",
    "\n",
    "\n",
    "y4_formula = suffix.getFormula(Residue.ResidueType.YIon, 2)     #y4++ ion   \n",
    "\n",
    "\n",
    "suffix.getMonoWeight(Residue.ResidueType.YIon, 2) / 2.0            \n",
    "\n",
    "suffix.getMonoWeight(Residue.ResidueType.XIon, 2) / 2.0            \n",
    "\n",
    "\n",
    "\n",
    "print(\"y4 mz:\", suffix.getMonoWeight(Residue.ResidueType.YIon, 2) / 2.0 )\n",
    "\n",
    "print(\"y4 molecular formula:\", y4_formula)"
   ]
  },
  {
   "cell_type": "code",
   "execution_count": 26,
   "id": "c7017c29",
   "metadata": {},
   "outputs": [
    {
     "name": "stdout",
     "output_type": "stream",
     "text": [
      "AEKTEDESEKPIMCER\n",
      "AEKTEDESEKPIM(Oxidation)CER\n",
      "AEKTEDESEKPIM(UniMod:35)CER\n",
      "AEKTEDESEKPIM[147]CER\n",
      "AEKTEDESEKPIM[147.03540001709996]CER\n",
      "****************************************\n",
      "DFPIAM(Oxidation)GER\n",
      "DFPIAM(Oxidation)GER\n",
      "DFPIAM(Oxidation)GER\n",
      "DFPIAM(Oxidation)GER\n",
      "DFPIAM(Oxidation)GER\n"
     ]
    }
   ],
   "source": [
    "##    Modified Sequences ##\n",
    "seq = AASequence.fromString(\"AEKTEDESEKPIM(Oxidation)CER\")\n",
    "print(seq.toUnmodifiedString())\n",
    "print(seq.toString())\n",
    "print(seq.toUniModString())\n",
    "print(seq.toBracketString())\n",
    "print(seq.toBracketString(False))\n",
    "  \n",
    "print(\"*\"*40)\n",
    "\n",
    "print(AASequence.fromString(\"DFPIAM(UniMod:35)GER\"))\n",
    "\n",
    "print(AASequence.fromString(\"DFPIAM[+16]GER\"))\n",
    "\n",
    "print(AASequence.fromString(\"DFPIAM[+15.99]GER\"))\n",
    "\n",
    "print(AASequence.fromString(\"DFPIAM[147]GER\"))\n",
    "\n",
    "print(AASequence.fromString(\"DFPIAM[147.035405]GER\"))"
   ]
  },
  {
   "cell_type": "code",
   "execution_count": 20,
   "id": "c2e5189b",
   "metadata": {},
   "outputs": [],
   "source": [
    "##   Proteins & FASTA Files ##\n",
    "bsa = FASTAEntry() \n",
    "bsa.sequence =\"VSLGRTKLLMFERKKYWSDFHKPMGElPLMEGRWLSF\"                       \n",
    "bsa.description = \"BSA Bovine Albumin (partial sequence)\"\n",
    "bsa.identifier = \"BSA\"\n",
    "\n",
    "alb = FASTAEntry()\n",
    "alb.sequence = \"VSLGRTKLLMFERKKYWSDFHKPMGElPLMEGRWLSF\"\n",
    "alb.description = \"ALB Human Albumin (partial sequence)\"\n",
    "alb.identifier = \"ALB\"\n",
    "\n",
    "\n",
    "entries = [bsa, alb]\n",
    "\n",
    "f = FASTAFile()\n",
    "\n",
    "f.store(\"example.fasta\", entries)"
   ]
  },
  {
   "cell_type": "code",
   "execution_count": 21,
   "id": "186340e5",
   "metadata": {},
   "outputs": [
    {
     "name": "stdout",
     "output_type": "stream",
     "text": [
      "2\n",
      "BSA VSLGRTKLLMFERKKYWSDFHKPMGElPLMEGRWLSF\n",
      "ALB VSLGRTKLLMFERKKYWSDFHKPMGElPLMEGRWLSF\n"
     ]
    }
   ],
   "source": [
    "entries = []\n",
    "\n",
    "f = FASTAFile()\n",
    "\n",
    "f.load(\"example.fasta\", entries)\n",
    "\n",
    "print( len(entries) )\n",
    "\n",
    "for e in entries:\n",
    "    print (e.identifier, e.sequence)"
   ]
  }
 ],
 "metadata": {
  "kernelspec": {
   "display_name": "Python 3 (ipykernel)",
   "language": "python",
   "name": "python3"
  },
  "language_info": {
   "codemirror_mode": {
    "name": "ipython",
    "version": 3
   },
   "file_extension": ".py",
   "mimetype": "text/x-python",
   "name": "python",
   "nbconvert_exporter": "python",
   "pygments_lexer": "ipython3",
   "version": "3.9.7"
  }
 },
 "nbformat": 4,
 "nbformat_minor": 5
}
