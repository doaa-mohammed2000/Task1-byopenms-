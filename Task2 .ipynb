{
 "cells": [
  {
   "cell_type": "code",
   "execution_count": 1,
   "id": "65bff542",
   "metadata": {},
   "outputs": [],
   "source": [
    "##  Amino Acid Sequences ##\n",
    "## The AASequence class handles amino acid sequences in OpenMS ##\n",
    "\n",
    "from pyopenms import AASequence\n",
    "from pyopenms import ResidueDB"
   ]
  },
  {
   "cell_type": "code",
   "execution_count": 28,
   "id": "182f2121",
   "metadata": {},
   "outputs": [
    {
     "name": "stdout",
     "output_type": "stream",
     "text": [
      "Monoisotopic mass of peptide [M] is 387.2481710527\n",
      "\n",
      "===============================================================\n",
      "\n",
      "But the sum of Monoisotopic of each amino acid is 441.2798662441\n"
     ]
    }
   ],
   "source": [
    "from pyopenms import *\n",
    "seq = AASequence.fromString(\"VAKA\")     \n",
    "\n",
    "full = seq.getMonoWeight()\n",
    "print(\"Monoisotopic mass of peptide [M] is\", full)\n",
    "\n",
    "print()\n",
    "print('===============================================================')\n",
    "print()\n",
    "\n",
    "full_mass =0\n",
    "for aa in seq:\n",
    "    full_mass =full_mass + aa.getMonoWeight()\n",
    "print(\"But the sum of Monoisotopic of each amino acid is\" ,full_mass ) "
   ]
  }
 ],
 "metadata": {
  "kernelspec": {
   "display_name": "Python 3 (ipykernel)",
   "language": "python",
   "name": "python3"
  },
  "language_info": {
   "codemirror_mode": {
    "name": "ipython",
    "version": 3
   },
   "file_extension": ".py",
   "mimetype": "text/x-python",
   "name": "python",
   "nbconvert_exporter": "python",
   "pygments_lexer": "ipython3",
   "version": "3.9.7"
  }
 },
 "nbformat": 4,
 "nbformat_minor": 5
}
