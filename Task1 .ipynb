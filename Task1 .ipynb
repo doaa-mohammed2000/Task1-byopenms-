{
 "cells": [
  {
   "cell_type": "code",
   "execution_count": 1,
   "id": "030c56d0",
   "metadata": {},
   "outputs": [
    {
     "name": "stdout",
     "output_type": "stream",
     "text": [
      "Requirement already satisfied: pyopenms in c:\\users\\org\\anaconda3\\lib\\site-packages (2.7.0)\n",
      "Requirement already satisfied: numpy in c:\\users\\org\\anaconda3\\lib\\site-packages (from pyopenms) (1.20.3)\n"
     ]
    }
   ],
   "source": [
    "#install pyopenms\n",
    "!pip install pyopenms"
   ]
  },
  {
   "cell_type": "code",
   "execution_count": 21,
   "id": "c60f3605",
   "metadata": {},
   "outputs": [],
   "source": [
    "import pyopenms\n",
    "\n",
    "from pyopenms import ElementDB"
   ]
  },
  {
   "cell_type": "code",
   "execution_count": 22,
   "id": "8918a719",
   "metadata": {},
   "outputs": [
    {
     "name": "stdout",
     "output_type": "stream",
     "text": [
      "6.0221367e+23\n"
     ]
    }
   ],
   "source": [
    "# print Avogadro's number\n",
    "print(pyopenms.Constants.AVOGADRO)"
   ]
  },
  {
   "cell_type": "code",
   "execution_count": 32,
   "id": "4a737575",
   "metadata": {},
   "outputs": [
    {
     "data": {
      "text/plain": [
       "True"
      ]
     },
     "execution_count": 32,
     "metadata": {},
     "output_type": "execute_result"
    }
   ],
   "source": [
    "edb = ElementDB()\n",
    "edb.hasElement(\"H\")"
   ]
  },
  {
   "cell_type": "code",
   "execution_count": 33,
   "id": "a2e906c0",
   "metadata": {},
   "outputs": [
    {
     "name": "stdout",
     "output_type": "stream",
     "text": [
      "Hydrogen\n",
      "H\n",
      "1.0078250319\n",
      "1.0079407537260314\n",
      "One mole of oxygen weighs 2.015881507452063 grams\n"
     ]
    }
   ],
   "source": [
    "hydrogen = edb.getElement(\"H\")\n",
    "\n",
    "print(hydrogen.getName())\n",
    "\n",
    "print(hydrogen.getSymbol())\n",
    "\n",
    "print(hydrogen.getMonoWeight())\n",
    "\n",
    "print(hydrogen.getAverageWeight())\n",
    "\n",
    "\n",
    "print (\"One mole of oxygen weighs\", 2*hydrogen.getAverageWeight(), \"grams\")"
   ]
  },
  {
   "cell_type": "code",
   "execution_count": 35,
   "id": "5d94854f",
   "metadata": {},
   "outputs": [
    {
     "name": "stdout",
     "output_type": "stream",
     "text": [
      "<pyopenms.pyopenms_4.IsotopeDistribution object at 0x000001D2A98C7150>\n",
      "[<pyopenms.pyopenms_6.Peak1D object at 0x000001D2A97F8DB0>, <pyopenms.pyopenms_6.Peak1D object at 0x000001D2A98C73B0>, <pyopenms.pyopenms_6.Peak1D object at 0x000001D2A98C7150>]\n"
     ]
    }
   ],
   "source": [
    "print(hydrogen.getIsotopeDistribution())\n",
    "Iso=hydrogen.getIsotopeDistribution()\n",
    "\n",
    "print(Iso.getContainer())"
   ]
  },
  {
   "cell_type": "code",
   "execution_count": 37,
   "id": "f0d91b32",
   "metadata": {},
   "outputs": [
    {
     "name": "stdout",
     "output_type": "stream",
     "text": [
      "Hydrogen isotope 1.0078250319 has abundance 99.98850226402283 %\n",
      "Hydrogen isotope 2.01410178 has abundance 0.011500000255182385 %\n",
      "Hydrogen isotope 3.01604927 has abundance 0.0 %\n"
     ]
    }
   ],
   "source": [
    "############## Hydrogen Isotopes H1 & H2 & H3 ####################\n",
    "edb = ElementDB()\n",
    "\n",
    "hydrogen_isoDist = {\"mass\": [], \"abundance\": []}\n",
    "\n",
    "hydrogen = edb.getElement(\"H\")\n",
    "\n",
    "\n",
    "isotopes = hydrogen.getIsotopeDistribution()\n",
    "\n",
    "for iso in isotopes.getContainer():\n",
    "    print (\"Hydrogen isotope\", iso.getMZ(), \"has abundance\", iso.getIntensity()*100, \"%\")\n",
    "    hydrogen_isoDist[\"mass\"].append(iso.getMZ())\n",
    "    hydrogen_isoDist[\"abundance\"].append((iso.getIntensity() * 100))"
   ]
  },
  {
   "cell_type": "code",
   "execution_count": 38,
   "id": "9901280a",
   "metadata": {},
   "outputs": [
    {
     "data": {
      "text/plain": [
       "True"
      ]
     },
     "execution_count": 38,
     "metadata": {},
     "output_type": "execute_result"
    }
   ],
   "source": [
    "edb = ElementDB()\n",
    "edb.hasElement(\"C\")"
   ]
  },
  {
   "cell_type": "code",
   "execution_count": 46,
   "id": "2a27a515",
   "metadata": {},
   "outputs": [
    {
     "name": "stdout",
     "output_type": "stream",
     "text": [
      "Carbon isotope 12.0 has abundance 98.9300012588501 %\n",
      "Carbon isotope 13.003355 has abundance 1.0700000450015068 %\n"
     ]
    }
   ],
   "source": [
    "############## Carbon Isotopes C12 & C13#####################\n",
    "edb = ElementDB()\n",
    "\n",
    "carbon_isoDist = {\"mass\": [], \"abundance\": []}\n",
    "\n",
    "carbon = edb.getElement(\"C\")\n",
    "\n",
    "\n",
    "isotopes = carbon.getIsotopeDistribution()\n",
    "\n",
    "for iso in isotopes.getContainer():\n",
    "    print (\"Carbon isotope\", iso.getMZ(), \"has abundance\", iso.getIntensity()*100, \"%\")\n",
    "    carbon_isoDist[\"mass\"].append(iso.getMZ())\n",
    "    carbon_isoDist[\"abundance\"].append((iso.getIntensity() * 100))"
   ]
  },
  {
   "cell_type": "code",
   "execution_count": 48,
   "id": "d240ade9",
   "metadata": {},
   "outputs": [
    {
     "data": {
      "image/png": "[encoded data removed]",
      "text/plain": [
       "<Figure size 720x504 with 2 Axes>"
      ]
     },
     "metadata": {
      "needs_background": "light"
     },
     "output_type": "display_data"
    }
   ],
   "source": [
    "#  The isotope distribution of htdrogen and carbon can be displayed with the following extra code:\n",
    "import math\n",
    "from matplotlib import pyplot as plt\n",
    "\n",
    "def Text(x1, y1, x2, y2):\n",
    "    if y1 > y2:\n",
    "        plt.annotate('%0.3f' % (y2), xy=(x2, y2), xytext=(x2+0.5,y2+9),\n",
    "                     textcoords='data',\n",
    "                     arrowprops=dict(arrowstyle=\"->\", color='r', lw=0.5),\n",
    "                     horizontalalignment='right', verticalalignment='top')\n",
    "    else:\n",
    "        plt.annotate('%0.3f' % (y1), xy=(x1, y1), xytext=(x1+0.5,y1+9),\n",
    "                     textcoords='data',\n",
    "                     arrowprops=dict(arrowstyle=\"->\", color='r', lw=0.5),\n",
    "                     horizontalalignment='right', verticalalignment='top')\n",
    "\n",
    "\n",
    "def Distribution(distribution):\n",
    "    n = len(distribution[\"mass\"])\n",
    "    for i in range(0, n):\n",
    "        plt.vlines(x=distribution[\"mass\"][i], ymin=0, ymax=distribution[\"abundance\"][i])\n",
    "        if int(distribution[\"mass\"][i - 1]) == int(distribution[\"mass\"][i]) \\\n",
    "                and i != 0:\n",
    "            adjustText(distribution[\"mass\"][i - 1], distribution[\"abundance\"][i - 1],\n",
    "                       distribution[\"mass\"][i], distribution[\"abundance\"][i])\n",
    "        else:\n",
    "            plt.text(x=distribution[\"mass\"][i],\n",
    "                     y=(distribution[\"abundance\"][i] + 2),\n",
    "                     s='%0.3f' % (distribution[\"abundance\"][i]), va='center',\n",
    "                     ha='center')\n",
    "    plt.ylim([0, 110])\n",
    "    plt.xticks(range(math.ceil(distribution[\"mass\"][0]) - 2,\n",
    "                     math.ceil(distribution[\"mass\"][-1]) + 2))\n",
    "\n",
    "\n",
    "plt.figure(figsize=(10,7))\n",
    "\n",
    "plt.subplot(1,2,1)\n",
    "plt.title(\"Isotopic distribution of hydrogen\")\n",
    "Distribution(hydrogen_isoDist)\n",
    "plt.xlabel(\"Atomic mass (u)\")\n",
    "plt.ylabel(\"Relative abundance (%)\")\n",
    "\n",
    "plt.subplot(1,2,2)\n",
    "plt.title(\"Isotopic distribution of carbon\")\n",
    "Distribution(carbon_isoDist)\n",
    "plt.xlabel(\"Atomic mass (u)\")\n",
    "plt.ylabel(\"Relative abundance (%)\")\n",
    "\n",
    "plt.show()"
   ]
  },
  {
   "cell_type": "code",
   "execution_count": 54,
   "id": "85232ec8",
   "metadata": {},
   "outputs": [],
   "source": [
    "#   Mass Defect\n",
    "edb = ElementDB()\n",
    "\n",
    "\n",
    "isotopes = edb.getElement(\"H\").getIsotopeDistribution().getContainer()\n",
    "\n",
    "\n",
    "hydrogen_isotope_difference = isotopes[1].getMZ() - isotopes[0].getMZ()\n",
    "\n",
    "\n",
    "isotopes = edb.getElement(\"C\").getIsotopeDistribution().getContainer()\n",
    "\n",
    "\n",
    "\n",
    "carbon_isotope_difference = isotopes[1].getMZ() - isotopes[0].getMZ()"
   ]
  },
  {
   "cell_type": "code",
   "execution_count": 55,
   "id": "d6aa49fa",
   "metadata": {},
   "outputs": [
    {
     "name": "stdout",
     "output_type": "stream",
     "text": [
      "Mass difference between H and 2H: 1.0062767481\n"
     ]
    }
   ],
   "source": [
    "print (\"Mass difference between H and 2H:\",hydrogen_isotope_difference)"
   ]
  },
  {
   "cell_type": "code",
   "execution_count": 56,
   "id": "9357a846",
   "metadata": {},
   "outputs": [
    {
     "name": "stdout",
     "output_type": "stream",
     "text": [
      "Mass difference between 12C and 13C: 1.0033550000000009\n"
     ]
    }
   ],
   "source": [
    "print (\"Mass difference between 12C and 13C:\", carbon_isotope_difference)"
   ]
  },
  {
   "cell_type": "code",
   "execution_count": 57,
   "id": "2df5ff77",
   "metadata": {},
   "outputs": [
    {
     "name": "stdout",
     "output_type": "stream",
     "text": [
      "Relative deviation: 0.29035234149211 %\n"
     ]
    }
   ],
   "source": [
    "print (\"Relative deviation:\", 100*(hydrogen_isotope_difference -carbon_isotope_difference)/hydrogen_isotope_difference, \"%\")"
   ]
  },
  {
   "cell_type": "code",
   "execution_count": 58,
   "id": "431038a2",
   "metadata": {},
   "outputs": [
    {
     "name": "stdout",
     "output_type": "stream",
     "text": [
      "tolween chemical formula: C7H10\n"
     ]
    }
   ],
   "source": [
    "#  Molecular Formulae\n",
    "benzen = EmpiricalFormula(\"C6H6\")\n",
    "\n",
    "methan = EmpiricalFormula(\"CH4\")\n",
    "\n",
    "tolween = benzen + methan\n",
    "\n",
    "print(\"tolween chemical formula:\", tolween.toString())\n",
    "\n",
    "## CH3OH methanol + C7H9  >"
   ]
  },
  {
   "cell_type": "code",
   "execution_count": 59,
   "id": "811daa79",
   "metadata": {},
   "outputs": [
    {
     "name": "stdout",
     "output_type": "stream",
     "text": [
      "tolween composition: {b'C': 7, b'H': 10}\n"
     ]
    }
   ],
   "source": [
    "print(\"Tolween composition:\", tolween.getElementalComposition())"
   ]
  },
  {
   "cell_type": "code",
   "execution_count": 60,
   "id": "f36d49bc",
   "metadata": {},
   "outputs": [
    {
     "name": "stdout",
     "output_type": "stream",
     "text": [
      "Tolween has 7 carbon atoms\n"
     ]
    }
   ],
   "source": [
    "print(\"Tolween has\", tolween.getElementalComposition()[b\"C\"], \"carbon atoms\")"
   ]
  },
  {
   "cell_type": "code",
   "execution_count": 62,
   "id": "ebf8bcd2",
   "metadata": {},
   "outputs": [],
   "source": [
    "# Amino Acids\n",
    "gly = ResidueDB().getResidue(\"Glycine\")"
   ]
  },
  {
   "cell_type": "code",
   "execution_count": 63,
   "id": "532261cc",
   "metadata": {},
   "outputs": [
    {
     "name": "stdout",
     "output_type": "stream",
     "text": [
      "Glycine\n",
      "Gly\n",
      "G\n",
      "75.06672930075015\n",
      "75.0320291595\n",
      "2.35\n",
      "C2H5N1O2\n"
     ]
    }
   ],
   "source": [
    "print(gly.getName())\n",
    "#########\n",
    "print(gly.getThreeLetterCode())\n",
    "########\n",
    "print(gly.getOneLetterCode())\n",
    "########\n",
    "print(gly.getAverageWeight())\n",
    "#######\n",
    "print(gly.getMonoWeight())\n",
    "#######\n",
    "print(gly.getPka())\n",
    "#######\n",
    "print(gly.getFormula().toString())"
   ]
  },
  {
   "cell_type": "code",
   "execution_count": 64,
   "id": "509c0823",
   "metadata": {},
   "outputs": [
    {
     "name": "stdout",
     "output_type": "stream",
     "text": [
      "UniMod:35\n",
      "35\n",
      "15.994915\n",
      "Oxidation\n",
      "Oxidation (Q)\n",
      "Oxidation or Hydroxylation\n",
      "O1\n"
     ]
    }
   ],
   "source": [
    "#modifications\n",
    "ox = ModificationsDB().getModification(\"Oxidation\")\n",
    "\n",
    "#########\n",
    "print(ox.getUniModAccession())\n",
    "\n",
    "#########\n",
    "print(ox.getUniModRecordId())\n",
    "\n",
    "########\n",
    "print(ox.getDiffMonoMass())\n",
    "\n",
    "########\n",
    "print(ox.getId())\n",
    "\n",
    "########\n",
    "print(ox.getFullId())\n",
    "\n",
    "########\n",
    "print(ox.getFullName())\n",
    "\n",
    "#########\n",
    "print(ox.getDiffFormula())"
   ]
  },
  {
   "cell_type": "code",
   "execution_count": 65,
   "id": "e8e94aa1",
   "metadata": {
    "scrolled": true
   },
   "outputs": [
    {
     "name": "stdout",
     "output_type": "stream",
     "text": [
      "15.994915 : 0.9975699782371521\n",
      "16.998269837800002 : 0.0003800000122282654\n",
      "18.0016246756 : 0.002050000010058284\n"
     ]
    }
   ],
   "source": [
    "isotopes = ox.getDiffFormula().getIsotopeDistribution(CoarseIsotopePatternGenerator(5))\n",
    "for iso in isotopes.getContainer():\n",
    "    print (iso.getMZ(), \":\", iso.getIntensity())"
   ]
  },
  {
   "cell_type": "code",
   "execution_count": 68,
   "id": "ab0a3809",
   "metadata": {},
   "outputs": [
    {
     "name": "stdout",
     "output_type": "stream",
     "text": [
      "adenosine\n",
      "A\n",
      "267.2449\n",
      "267.0968\n",
      "C10H13N5O4\n",
      "False\n",
      "1-methyladenosine\n",
      "True\n"
     ]
    }
   ],
   "source": [
    "#  Ribonucleotides\n",
    "adnine = RibonucleotideDB().getRibonucleotide(b\"A\")\n",
    "\n",
    "#########  Name\n",
    "\n",
    "print(adnine.getName())\n",
    "\n",
    "############\n",
    "print(adnine.getCode())\n",
    "\n",
    "###########\n",
    "print(adnine.getAvgMass())\n",
    "\n",
    "###############\n",
    "print(adnine.getMonoMass())\n",
    "\n",
    "################\n",
    "\n",
    "print(adnine.getFormula().toString())\n",
    "\n",
    "##############33\n",
    "print(adnine.isModified())\n",
    "\n",
    "#################3\n",
    "methyladenosine = RibonucleotideDB().getRibonucleotide(b\"m1A\")\n",
    "\n",
    "##################33\n",
    "\n",
    "print(methyladenosine.getName())\n",
    "\n",
    "############################\n",
    "print(methyladenosine.isModified())"
   ]
  },
  {
   "cell_type": "code",
   "execution_count": null,
   "id": "d48f912c",
   "metadata": {},
   "outputs": [],
   "source": []
  }
 ],
 "metadata": {
  "kernelspec": {
   "display_name": "Python 3 (ipykernel)",
   "language": "python",
   "name": "python3"
  },
  "language_info": {
   "codemirror_mode": {
    "name": "ipython",
    "version": 3
   },
   "file_extension": ".py",
   "mimetype": "text/x-python",
   "name": "python",
   "nbconvert_exporter": "python",
   "pygments_lexer": "ipython3",
   "version": "3.9.7"
  }
 },
 "nbformat": 4,
 "nbformat_minor": 5
}
